{
 "cells": [
  {
   "cell_type": "code",
   "execution_count": null,
   "id": "da9bdc03-ce42-4b25-8b9c-e8cf1f0dbbac",
   "metadata": {
    "scrolled": true
   },
   "outputs": [],
   "source": [
    "#!pip install txtai"
   ]
  },
  {
   "cell_type": "code",
   "execution_count": 13,
   "id": "fe43dd03-8967-4354-baaa-d0e5c1be1f93",
   "metadata": {},
   "outputs": [
    {
     "name": "stdout",
     "output_type": "stream",
     "text": [
      "[(0, 1.0)]\n"
     ]
    }
   ],
   "source": [
    "'''This line imports the Embeddings class from the txtai.embeddings module. \n",
    "The Embeddings class is used for creating and manipulating embeddings\n",
    "which are high-dimensional vectors representing the semantic content of texts.'''\n",
    "\n",
    "from txtai.embeddings import Embeddings\n",
    "\n",
    "'''Here, an instance of the Embeddings class is created with a configuration that specifies the path to a pre-trained model. \n",
    "The model \"sentence-transformers/all-MiniLM-L6-v2\" is used here, \n",
    "which is a compact but effective language model trained for generating sentence embeddings.'''\n",
    "\n",
    "# Create an embeddings instance\n",
    "embeddings = Embeddings({\"path\": \"sentence-transformers/all-MiniLM-L6-v2\"})\n",
    "\n",
    "'''This line indexes the list of texts (in this case, a single text \"Something\") using the embeddings model. \n",
    "It processes the text through the model to create embeddings, which are then stored in an internal structure\n",
    "that facilitates fast retrieval based on similarity.'''\n",
    "# Index text\n",
    "embeddings.index([\"Something\"])\n",
    "\n",
    "'''This line searches the indexed texts to find the top 1 entry (as specified by the number 1 in the method) \n",
    "that is most similar to the query \"something\". The search uses the cosine similarity of embeddings\n",
    "to determine which texts are most similar to the given query.'''\n",
    "# Search for similar text\n",
    "results = embeddings.search(\"something\", 1)\n",
    "print(results)"
   ]
  },
  {
   "cell_type": "code",
   "execution_count": null,
   "id": "831d940a-564b-49f2-a3e6-198c3b9dbdf9",
   "metadata": {},
   "outputs": [],
   "source": []
  }
 ],
 "metadata": {
  "kernelspec": {
   "display_name": "Python 3 (ipykernel)",
   "language": "python",
   "name": "python3"
  },
  "language_info": {
   "codemirror_mode": {
    "name": "ipython",
    "version": 3
   },
   "file_extension": ".py",
   "mimetype": "text/x-python",
   "name": "python",
   "nbconvert_exporter": "python",
   "pygments_lexer": "ipython3",
   "version": "3.10.11"
  }
 },
 "nbformat": 4,
 "nbformat_minor": 5
}
